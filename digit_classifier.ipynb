{
  "cells": [
    {
      "cell_type": "markdown",
      "metadata": {
        "colab_type": "text",
        "id": "view-in-github"
      },
      "source": [
        "<a href=\"https://colab.research.google.com/github/ColeBallard/digit-classifier/blob/main/digit_classifier.ipynb\" target=\"_parent\"><img src=\"https://colab.research.google.com/assets/colab-badge.svg\" alt=\"Open In Colab\"/></a>"
      ]
    },
    {
      "cell_type": "code",
      "execution_count": 4,
      "metadata": {
        "id": "hcd6Oy4QiN9b"
      },
      "outputs": [],
      "source": [
        "import tensorflow as tf\n",
        "import numpy as np\n",
        "import matplotlib.pyplot as plt\n",
        "import cv2\n",
        "import os\n",
        "import random"
      ]
    },
    {
      "cell_type": "code",
      "execution_count": 20,
      "metadata": {},
      "outputs": [],
      "source": [
        "images = np.empty([28437, 35, 35])\n",
        "labels = np.empty([28437], dtype=int)\n",
        "\n",
        "directory = 'images'\n",
        "\n",
        "i = 0\n",
        " \n",
        "for folder in os.listdir(directory):\n",
        "    f = os.path.join(directory, folder)\n",
        "\n",
        "    for file in os.listdir(f):\n",
        "        image = cv2.imread(os.path.join(directory, folder, file))\n",
        "\n",
        "        grayImage = cv2.cvtColor(image, cv2.COLOR_BGR2GRAY)\n",
        "            \n",
        "        (thresh, blackAndWhiteImage) = cv2.threshold(grayImage, 127, 255, cv2.THRESH_BINARY)\n",
        "\n",
        "        blackAndWhiteImage\n",
        "\n",
        "        images[i] = blackAndWhiteImage\n",
        "        labels[i] = folder\n",
        "\n",
        "        i += 1\n",
        "\n",
        "        "
      ]
    },
    {
      "cell_type": "code",
      "execution_count": 24,
      "metadata": {},
      "outputs": [],
      "source": [
        "data = list(zip(images, labels))\n",
        "random.shuffle(data)\n",
        "\n",
        "images, labels = zip(*data)\n",
        "\n",
        "images = np.asarray(images)\n",
        "labels = np.asarray(labels)\n",
        "\n",
        "split_index = int(len(images) * 0.8)\n",
        "train_images = images[:split_index]\n",
        "train_labels = labels[:split_index]\n",
        "test_images = images[split_index:]\n",
        "test_labels = labels[split_index:]"
      ]
    },
    {
      "cell_type": "code",
      "execution_count": 28,
      "metadata": {},
      "outputs": [
        {
          "data": {
            "text/plain": [
              "(5688, 35, 35)"
            ]
          },
          "execution_count": 28,
          "metadata": {},
          "output_type": "execute_result"
        }
      ],
      "source": [
        "test_images.shape"
      ]
    },
    {
      "cell_type": "code",
      "execution_count": 29,
      "metadata": {
        "id": "ZfurxjmyiofL"
      },
      "outputs": [],
      "source": [
        "train_images = train_images / 255.0\n",
        "\n",
        "test_images = test_images / 255.0"
      ]
    },
    {
      "cell_type": "code",
      "execution_count": 32,
      "metadata": {
        "colab": {
          "base_uri": "https://localhost:8080/",
          "height": 589
        },
        "id": "byMv9_Lti_yf",
        "outputId": "3d16686b-dbdd-4e0f-fd2c-1a16e7b5014a"
      },
      "outputs": [
        {
          "data": {
            "image/png": "[encoded data removed]",
            "text/plain": [
              "<Figure size 720x720 with 25 Axes>"
            ]
          },
          "metadata": {},
          "output_type": "display_data"
        }
      ],
      "source": [
        "plt.figure(figsize=(10,10))\n",
        "for i in range(25):\n",
        "    plt.subplot(5,5,i+1)\n",
        "    plt.xticks([])\n",
        "    plt.yticks([])\n",
        "    plt.grid(False)\n",
        "    plt.imshow(train_images[i], cmap=plt.cm.binary)\n",
        "    plt.xlabel(train_labels[i])\n",
        "plt.show()"
      ]
    },
    {
      "cell_type": "code",
      "execution_count": 33,
      "metadata": {
        "id": "EyCYsFuzjrot"
      },
      "outputs": [],
      "source": [
        "model = tf.keras.Sequential([\n",
        "    tf.keras.layers.Flatten(input_shape=(35, 35)),\n",
        "    tf.keras.layers.Dense(128, activation='relu'),\n",
        "    tf.keras.layers.Dense(10)\n",
        "])"
      ]
    },
    {
      "cell_type": "code",
      "execution_count": 34,
      "metadata": {
        "id": "FfhpW7Vfjrye"
      },
      "outputs": [],
      "source": [
        "model.compile(optimizer='adam',\n",
        "              loss=tf.keras.losses.SparseCategoricalCrossentropy(from_logits=True),\n",
        "              metrics=['accuracy'])"
      ]
    },
    {
      "cell_type": "code",
      "execution_count": 35,
      "metadata": {
        "colab": {
          "base_uri": "https://localhost:8080/"
        },
        "id": "ktrmsjwLjzbq",
        "outputId": "ca999a7d-0923-4f21-aff3-fce078c82cc6"
      },
      "outputs": [
        {
          "name": "stdout",
          "output_type": "stream",
          "text": [
            "Epoch 1/10\n",
            "711/711 [==============================] - 2s 2ms/step - loss: 0.1105 - accuracy: 0.9736\n",
            "Epoch 2/10\n",
            "711/711 [==============================] - 1s 2ms/step - loss: 0.0029 - accuracy: 0.9997\n",
            "Epoch 3/10\n",
            "711/711 [==============================] - 1s 2ms/step - loss: 0.0014 - accuracy: 0.9999\n",
            "Epoch 4/10\n",
            "711/711 [==============================] - 1s 2ms/step - loss: 7.1075e-04 - accuracy: 1.0000\n",
            "Epoch 5/10\n",
            "711/711 [==============================] - 1s 2ms/step - loss: 0.0074 - accuracy: 0.9974\n",
            "Epoch 6/10\n",
            "711/711 [==============================] - 1s 2ms/step - loss: 1.5686e-04 - accuracy: 1.0000\n",
            "Epoch 7/10\n",
            "711/711 [==============================] - 1s 2ms/step - loss: 2.4812e-04 - accuracy: 1.0000\n",
            "Epoch 8/10\n",
            "711/711 [==============================] - 1s 2ms/step - loss: 1.2060e-04 - accuracy: 1.0000\n",
            "Epoch 9/10\n",
            "711/711 [==============================] - 1s 2ms/step - loss: 4.1001e-05 - accuracy: 1.0000\n",
            "Epoch 10/10\n",
            "711/711 [==============================] - 1s 2ms/step - loss: 0.0021 - accuracy: 0.9993\n"
          ]
        },
        {
          "data": {
            "text/plain": [
              "<keras.callbacks.History at 0x24b9dadc520>"
            ]
          },
          "execution_count": 35,
          "metadata": {},
          "output_type": "execute_result"
        }
      ],
      "source": [
        "model.fit(train_images, train_labels, epochs=10)"
      ]
    },
    {
      "cell_type": "code",
      "execution_count": 36,
      "metadata": {
        "colab": {
          "base_uri": "https://localhost:8080/"
        },
        "id": "egCO7swMkEvk",
        "outputId": "003b2070-1d1c-4d75-baef-fb86f3cb0b22"
      },
      "outputs": [
        {
          "name": "stdout",
          "output_type": "stream",
          "text": [
            "178/178 - 0s - loss: 0.0016 - accuracy: 0.9995 - 230ms/epoch - 1ms/step\n",
            "\n",
            "Test accuracy: 0.9994725584983826\n"
          ]
        }
      ],
      "source": [
        "test_loss, test_acc = model.evaluate(test_images,  test_labels, verbose=2)\n",
        "\n",
        "print('\\nTest accuracy:', test_acc)"
      ]
    },
    {
      "cell_type": "code",
      "execution_count": 37,
      "metadata": {
        "id": "m0TMGt2-kExP"
      },
      "outputs": [],
      "source": [
        "probability_model = tf.keras.Sequential([model, \n",
        "                                         tf.keras.layers.Softmax()])"
      ]
    },
    {
      "cell_type": "code",
      "execution_count": 38,
      "metadata": {
        "id": "74-GB3dmkMVx"
      },
      "outputs": [
        {
          "name": "stdout",
          "output_type": "stream",
          "text": [
            "178/178 [==============================] - 0s 966us/step\n"
          ]
        }
      ],
      "source": [
        "predictions = probability_model.predict(test_images)"
      ]
    },
    {
      "cell_type": "code",
      "execution_count": 39,
      "metadata": {
        "id": "TihRXCcDkkuC"
      },
      "outputs": [],
      "source": [
        "def plot_image(i, predictions_array, true_label, img):\n",
        "  true_label, img = true_label[i], img[i]\n",
        "  plt.grid(False)\n",
        "  plt.xticks([])\n",
        "  plt.yticks([])\n",
        "\n",
        "  plt.imshow(img, cmap=plt.cm.binary)\n",
        "\n",
        "  predicted_label = np.argmax(predictions_array)\n",
        "  if predicted_label == true_label:\n",
        "    color = 'blue'\n",
        "  else:\n",
        "    color = 'red'\n",
        "\n",
        "  plt.xlabel(\"{} {:2.0f}% ({})\".format(predicted_label,\n",
        "                                100*np.max(predictions_array),\n",
        "                                true_label),\n",
        "                                color=color)\n",
        "\n",
        "def plot_value_array(i, predictions_array, true_label):\n",
        "  true_label = true_label[i]\n",
        "  plt.grid(False)\n",
        "  plt.xticks(range(10))\n",
        "  plt.yticks([])\n",
        "  thisplot = plt.bar(range(10), predictions_array, color=\"#777777\")\n",
        "  plt.ylim([0, 1])\n",
        "  predicted_label = np.argmax(predictions_array)\n",
        "\n",
        "  thisplot[predicted_label].set_color('red')\n",
        "  thisplot[true_label].set_color('blue')"
      ]
    },
    {
      "cell_type": "code",
      "execution_count": 40,
      "metadata": {
        "colab": {
          "base_uri": "https://localhost:8080/",
          "height": 618
        },
        "id": "nNxzPMLLkULA",
        "outputId": "7f95c8dd-a741-4b34-db0b-ba69d005d32f"
      },
      "outputs": [
        {
          "data": {
            "image/png": "[encoded data removed]",
            "text/plain": [
              "<Figure size 864x720 with 30 Axes>"
            ]
          },
          "metadata": {
            "needs_background": "light"
          },
          "output_type": "display_data"
        }
      ],
      "source": [
        "num_rows = 5\n",
        "num_cols = 3\n",
        "num_images = num_rows*num_cols\n",
        "plt.figure(figsize=(2*2*num_cols, 2*num_rows))\n",
        "for i in range(num_images):\n",
        "  plt.subplot(num_rows, 2*num_cols, 2*i+1)\n",
        "  plot_image(i, predictions[i], test_labels, test_images)\n",
        "  plt.subplot(num_rows, 2*num_cols, 2*i+2)\n",
        "  plot_value_array(i, predictions[i], test_labels)\n",
        "plt.tight_layout()\n",
        "plt.show()"
      ]
    },
    {
      "cell_type": "code",
      "execution_count": 43,
      "metadata": {},
      "outputs": [
        {
          "name": "stderr",
          "output_type": "stream",
          "text": [
            "WARNING:absl:Found untraced functions such as _update_step_xla while saving (showing 1 of 1). These functions will not be directly callable after loading.\n"
          ]
        },
        {
          "name": "stdout",
          "output_type": "stream",
          "text": [
            "INFO:tensorflow:Assets written to: model\\assets\n"
          ]
        },
        {
          "name": "stderr",
          "output_type": "stream",
          "text": [
            "INFO:tensorflow:Assets written to: model\\assets\n"
          ]
        }
      ],
      "source": [
        "model.save('model')"
      ]
    }
  ],
  "metadata": {
    "colab": {
      "authorship_tag": "ABX9TyMTx94NBn9HnyJHaRAj8Nxz",
      "include_colab_link": true,
      "name": "digit-classifier.ipynb",
      "provenance": []
    },
    "kernelspec": {
      "display_name": "Python 3",
      "language": "python",
      "name": "python3"
    },
    "language_info": {
      "codemirror_mode": {
        "name": "ipython",
        "version": 3
      },
      "file_extension": ".py",
      "mimetype": "text/x-python",
      "name": "python",
      "nbconvert_exporter": "python",
      "pygments_lexer": "ipython3",
      "version": "3.10.6"
    },
    "vscode": {
      "interpreter": {
        "hash": "c569d5206afb8abdade57f51b7a8819ce143fbdcc94d19bbc35fd43f58a57833"
      }
    }
  },
  "nbformat": 4,
  "nbformat_minor": 0
}
